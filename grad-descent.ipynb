{
 "cells": [
  {
   "cell_type": "code",
   "execution_count": 13,
   "source": [
    "# Prepared by TA İlker Demirel\n",
    "\n",
    "import numpy as np\n",
    "\n",
    "#decimal dictionary for 4-bit signed numbers\n",
    "decimal_dict = {'0': 0,'1': 1,'2': 2,'3':3,'4':4,'5':5,'6':6,'7':7,'8':-8,'9':-7,'A':-6,'B':-5,'C':-4,'D':-3,'E':-2,'F':-1}\n",
    "\n",
    "data_txt = open(\"random_4bit_signed.txt\", \"r\")\n",
    "data = data_txt.read().split(\",\")[:-1]\n",
    "data_txt.close()\n",
    "data = [decimal_dict[data[i][-2]] for i in range(len(data))]\n",
    "#print(data)\n",
    "w_true, w_init = np.array([-7,-7]), np.array([6,6])\n",
    "for i in range(len(data)):\n",
    "    temp_loss = np.dot(w_true - w_init, np.array([1, data[i]]))\n",
    "    w_init[0] += np.sign(temp_loss)\n",
    "    w_init[1] += np.sign(temp_loss*data[i])\n",
    "    if w_init[0] == w_true[0] and w_init[1] == w_true[1]:\n",
    "        print('Converged at step: {}'.format(i))\n",
    "        print('a_true: {}, b_true: {}\\na_est= {}, b_est: {}'.format(w_true[0], w_true[1], w_init[0], w_init[1]))\n",
    "        break\n"
   ],
   "outputs": [
    {
     "output_type": "stream",
     "name": "stdout",
     "text": [
      "Converged at step: 17\n",
      "a_true: 5, b_true: -7\n",
      "a_est= 5, b_est: -7\n"
     ]
    }
   ],
   "metadata": {}
  }
 ],
 "metadata": {
  "interpreter": {
   "hash": "37151fc3cc5ba73d69a1b26f504ee51069142b5ab28bfc4c9b7b45a5d423c179"
  },
  "kernelspec": {
   "name": "python3",
   "display_name": "Python 3.7.11 64-bit ('p_nn': conda)"
  },
  "language_info": {
   "codemirror_mode": {
    "name": "ipython",
    "version": 3
   },
   "file_extension": ".py",
   "mimetype": "text/x-python",
   "name": "python",
   "nbconvert_exporter": "python",
   "pygments_lexer": "ipython3",
   "version": "3.7.11"
  },
  "metadata": {
   "interpreter": {
    "hash": "c9a235104503eba9b41811f75e0830b678c0f7bdd39c1ef0ff43a730b0f2d559"
   }
  },
  "orig_nbformat": 2
 },
 "nbformat": 4,
 "nbformat_minor": 2
}